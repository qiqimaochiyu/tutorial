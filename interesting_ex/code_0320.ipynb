{
 "cells": [
  {
   "cell_type": "code",
   "execution_count": 164,
   "metadata": {
    "collapsed": true
   },
   "outputs": [],
   "source": [
    "import pandas as pd"
   ]
  },
  {
   "cell_type": "code",
   "execution_count": 165,
   "metadata": {
    "collapsed": true
   },
   "outputs": [],
   "source": [
    "data1 = pd.read_excel('data.xls')\n",
    "data2 = pd.read_excel('discretdata.xls')"
   ]
  },
  {
   "cell_type": "code",
   "execution_count": 166,
   "metadata": {},
   "outputs": [
    {
     "data": {
      "text/html": [
       "<div>\n",
       "<style>\n",
       "    .dataframe thead tr:only-child th {\n",
       "        text-align: right;\n",
       "    }\n",
       "\n",
       "    .dataframe thead th {\n",
       "        text-align: left;\n",
       "    }\n",
       "\n",
       "    .dataframe tbody tr th {\n",
       "        vertical-align: top;\n",
       "    }\n",
       "</style>\n",
       "<table border=\"1\" class=\"dataframe\">\n",
       "  <thead>\n",
       "    <tr style=\"text-align: right;\">\n",
       "      <th></th>\n",
       "      <th>肝气郁结证型系数</th>\n",
       "      <th>热毒蕴结证型系数</th>\n",
       "      <th>冲任失调证型系数</th>\n",
       "      <th>气血两虚证型系数</th>\n",
       "      <th>脾胃虚弱证型系数</th>\n",
       "      <th>肝肾阴虚证型系数</th>\n",
       "      <th>病程阶段</th>\n",
       "      <th>TNM分期</th>\n",
       "      <th>转移部位</th>\n",
       "      <th>确诊后几年发现转移</th>\n",
       "    </tr>\n",
       "  </thead>\n",
       "  <tbody>\n",
       "    <tr>\n",
       "      <th>0</th>\n",
       "      <td>0.056</td>\n",
       "      <td>0.460</td>\n",
       "      <td>0.281</td>\n",
       "      <td>0.352</td>\n",
       "      <td>0.119</td>\n",
       "      <td>0.350</td>\n",
       "      <td>S4</td>\n",
       "      <td>H4</td>\n",
       "      <td>R1</td>\n",
       "      <td>J1</td>\n",
       "    </tr>\n",
       "    <tr>\n",
       "      <th>1</th>\n",
       "      <td>0.488</td>\n",
       "      <td>0.099</td>\n",
       "      <td>0.283</td>\n",
       "      <td>0.333</td>\n",
       "      <td>0.116</td>\n",
       "      <td>0.293</td>\n",
       "      <td>S4</td>\n",
       "      <td>H4</td>\n",
       "      <td>R1</td>\n",
       "      <td>J1</td>\n",
       "    </tr>\n",
       "    <tr>\n",
       "      <th>2</th>\n",
       "      <td>0.107</td>\n",
       "      <td>0.008</td>\n",
       "      <td>0.204</td>\n",
       "      <td>0.150</td>\n",
       "      <td>0.032</td>\n",
       "      <td>0.159</td>\n",
       "      <td>S4</td>\n",
       "      <td>H4</td>\n",
       "      <td>R2</td>\n",
       "      <td>J2</td>\n",
       "    </tr>\n",
       "    <tr>\n",
       "      <th>3</th>\n",
       "      <td>0.322</td>\n",
       "      <td>0.208</td>\n",
       "      <td>0.305</td>\n",
       "      <td>0.130</td>\n",
       "      <td>0.184</td>\n",
       "      <td>0.317</td>\n",
       "      <td>S4</td>\n",
       "      <td>H4</td>\n",
       "      <td>R2</td>\n",
       "      <td>J1</td>\n",
       "    </tr>\n",
       "    <tr>\n",
       "      <th>4</th>\n",
       "      <td>0.242</td>\n",
       "      <td>0.280</td>\n",
       "      <td>0.131</td>\n",
       "      <td>0.210</td>\n",
       "      <td>0.191</td>\n",
       "      <td>0.351</td>\n",
       "      <td>S4</td>\n",
       "      <td>H4</td>\n",
       "      <td>R2R5</td>\n",
       "      <td>J1</td>\n",
       "    </tr>\n",
       "  </tbody>\n",
       "</table>\n",
       "</div>"
      ],
      "text/plain": [
       "   肝气郁结证型系数  热毒蕴结证型系数  冲任失调证型系数  气血两虚证型系数  脾胃虚弱证型系数  肝肾阴虚证型系数 病程阶段 TNM分期  \\\n",
       "0     0.056     0.460     0.281     0.352     0.119     0.350   S4    H4   \n",
       "1     0.488     0.099     0.283     0.333     0.116     0.293   S4    H4   \n",
       "2     0.107     0.008     0.204     0.150     0.032     0.159   S4    H4   \n",
       "3     0.322     0.208     0.305     0.130     0.184     0.317   S4    H4   \n",
       "4     0.242     0.280     0.131     0.210     0.191     0.351   S4    H4   \n",
       "\n",
       "   转移部位 确诊后几年发现转移  \n",
       "0    R1        J1  \n",
       "1    R1        J1  \n",
       "2    R2        J2  \n",
       "3    R2        J1  \n",
       "4  R2R5        J1  "
      ]
     },
     "execution_count": 166,
     "metadata": {},
     "output_type": "execute_result"
    }
   ],
   "source": [
    "data1.head()"
   ]
  },
  {
   "cell_type": "code",
   "execution_count": 167,
   "metadata": {},
   "outputs": [
    {
     "data": {
      "text/html": [
       "<div>\n",
       "<style>\n",
       "    .dataframe thead tr:only-child th {\n",
       "        text-align: right;\n",
       "    }\n",
       "\n",
       "    .dataframe thead th {\n",
       "        text-align: left;\n",
       "    }\n",
       "\n",
       "    .dataframe tbody tr th {\n",
       "        vertical-align: top;\n",
       "    }\n",
       "</style>\n",
       "<table border=\"1\" class=\"dataframe\">\n",
       "  <thead>\n",
       "    <tr style=\"text-align: right;\">\n",
       "      <th></th>\n",
       "      <th>1</th>\n",
       "      <th>2</th>\n",
       "      <th>3</th>\n",
       "      <th>4</th>\n",
       "    </tr>\n",
       "  </thead>\n",
       "  <tbody>\n",
       "    <tr>\n",
       "      <th>A</th>\n",
       "      <td>0</td>\n",
       "      <td>0.314560</td>\n",
       "      <td>0.272817</td>\n",
       "      <td>0.215981</td>\n",
       "    </tr>\n",
       "    <tr>\n",
       "      <th>An</th>\n",
       "      <td>356</td>\n",
       "      <td>53.000000</td>\n",
       "      <td>240.000000</td>\n",
       "      <td>281.000000</td>\n",
       "    </tr>\n",
       "    <tr>\n",
       "      <th>B</th>\n",
       "      <td>0</td>\n",
       "      <td>0.153543</td>\n",
       "      <td>0.401366</td>\n",
       "      <td>0.489954</td>\n",
       "    </tr>\n",
       "    <tr>\n",
       "      <th>Bn</th>\n",
       "      <td>342</td>\n",
       "      <td>380.000000</td>\n",
       "      <td>29.000000</td>\n",
       "      <td>179.000000</td>\n",
       "    </tr>\n",
       "    <tr>\n",
       "      <th>C</th>\n",
       "      <td>0</td>\n",
       "      <td>0.245362</td>\n",
       "      <td>0.336551</td>\n",
       "      <td>0.379873</td>\n",
       "    </tr>\n",
       "  </tbody>\n",
       "</table>\n",
       "</div>"
      ],
      "text/plain": [
       "      1           2           3           4\n",
       "A     0    0.314560    0.272817    0.215981\n",
       "An  356   53.000000  240.000000  281.000000\n",
       "B     0    0.153543    0.401366    0.489954\n",
       "Bn  342  380.000000   29.000000  179.000000\n",
       "C     0    0.245362    0.336551    0.379873"
      ]
     },
     "execution_count": 167,
     "metadata": {},
     "output_type": "execute_result"
    }
   ],
   "source": [
    "data2.head()"
   ]
  },
  {
   "cell_type": "code",
   "execution_count": 181,
   "metadata": {},
   "outputs": [],
   "source": [
    "#data1"
   ]
  },
  {
   "cell_type": "code",
   "execution_count": 178,
   "metadata": {
    "collapsed": true
   },
   "outputs": [],
   "source": [
    "typelabel={u'肝气郁结证型系数':'A',u'热毒蕴结证型系数':'B', u'冲任失调证型系数':'C', u'气血两虚证型系数':'D', u'脾胃虚弱证型系数':'E', u'肝肾阴虚证型系数':'F'}\n",
    "keys=list(typelabel.keys())\n",
    "values=list(typelabel.values())\n",
    "result=data1[keys].as_matrix().astype(object)\n",
    "tmp=data2.as_matrix()\n"
   ]
  },
  {
   "cell_type": "code",
   "execution_count": 179,
   "metadata": {},
   "outputs": [],
   "source": [
    "for i in range(len(data1)):\n",
    "    for j in range(len(keys)):\n",
    "        for k in range(3):\n",
    "            if result[i,j] >= tmp[2*j,k] and  result[i,j] < tmp[2*j,k+1]:\n",
    "                result[i,j] = values[j]+str(k+1)\n",
    "                break\n",
    "\n",
    "pd.DataFrame(result).to_excel('out.xls')"
   ]
  },
  {
   "cell_type": "code",
   "execution_count": 180,
   "metadata": {},
   "outputs": [
    {
     "data": {
      "text/plain": [
       "array([['A1', 'B3', 'C2', 0.352, 'E1', 'F2'],\n",
       "       [0.488, 'B1', 'C2', 0.333, 'E1', 'F2'],\n",
       "       ['A1', 'B1', 'C1', 'D1', 'E1', 'F1'],\n",
       "       ...,\n",
       "       ['A1', 'B2', 'C1', 'D1', 'E1', 'F2'],\n",
       "       ['A1', 'B2', 'C1', 'D1', 'E1', 'F1'],\n",
       "       ['A1', 'B2', 'C1', 'D1', 'E1', 'F1']], dtype=object)"
      ]
     },
     "execution_count": 180,
     "metadata": {},
     "output_type": "execute_result"
    }
   ],
   "source": [
    "result"
   ]
  },
  {
   "cell_type": "markdown",
   "metadata": {
    "collapsed": true
   },
   "source": [
    "### Python：疯狂的字典"
   ]
  },
  {
   "cell_type": "code",
   "execution_count": 159,
   "metadata": {},
   "outputs": [],
   "source": [
    "d = {True: 'yes', 1:'no', 1.0:'maybe'}"
   ]
  },
  {
   "cell_type": "code",
   "execution_count": 160,
   "metadata": {},
   "outputs": [
    {
     "data": {
      "text/plain": [
       "{True: 'maybe'}"
      ]
     },
     "execution_count": 160,
     "metadata": {},
     "output_type": "execute_result"
    }
   ],
   "source": [
    "d"
   ]
  },
  {
   "cell_type": "code",
   "execution_count": 182,
   "metadata": {
    "collapsed": true
   },
   "outputs": [],
   "source": [
    "s = {}\n",
    "s[True] = 'yes'\n",
    "s[1] = 'no'\n",
    "s[1.0] = 'maybe'"
   ]
  },
  {
   "cell_type": "code",
   "execution_count": 183,
   "metadata": {},
   "outputs": [
    {
     "data": {
      "text/plain": [
       "{True: 'maybe'}"
      ]
     },
     "execution_count": 183,
     "metadata": {},
     "output_type": "execute_result"
    }
   ],
   "source": [
    "s"
   ]
  },
  {
   "cell_type": "code",
   "execution_count": 184,
   "metadata": {},
   "outputs": [
    {
     "data": {
      "text/plain": [
       "True"
      ]
     },
     "execution_count": 184,
     "metadata": {},
     "output_type": "execute_result"
    }
   ],
   "source": [
    "True == 1 == 1.0"
   ]
  },
  {
   "cell_type": "code",
   "execution_count": 185,
   "metadata": {},
   "outputs": [
    {
     "data": {
      "text/plain": [
       "True"
      ]
     },
     "execution_count": 185,
     "metadata": {},
     "output_type": "execute_result"
    }
   ],
   "source": [
    "1 == 1.0"
   ]
  },
  {
   "cell_type": "code",
   "execution_count": 186,
   "metadata": {},
   "outputs": [
    {
     "data": {
      "text/plain": [
       "{True: 'maybe'}"
      ]
     },
     "execution_count": 186,
     "metadata": {},
     "output_type": "execute_result"
    }
   ],
   "source": [
    "d"
   ]
  },
  {
   "cell_type": "code",
   "execution_count": 188,
   "metadata": {},
   "outputs": [],
   "source": [
    "d[1] = 'y'"
   ]
  },
  {
   "cell_type": "code",
   "execution_count": 189,
   "metadata": {},
   "outputs": [
    {
     "data": {
      "text/plain": [
       "{True: 'y'}"
      ]
     },
     "execution_count": 189,
     "metadata": {},
     "output_type": "execute_result"
    }
   ],
   "source": [
    "d"
   ]
  },
  {
   "cell_type": "markdown",
   "metadata": {},
   "source": [
    "当一个新的值与字典的健关联时，python的字典不会更新健对象本身"
   ]
  },
  {
   "cell_type": "code",
   "execution_count": null,
   "metadata": {
    "collapsed": true
   },
   "outputs": [],
   "source": []
  }
 ],
 "metadata": {
  "kernelspec": {
   "display_name": "Python 3",
   "language": "python",
   "name": "python3"
  },
  "language_info": {
   "codemirror_mode": {
    "name": "ipython",
    "version": 3
   },
   "file_extension": ".py",
   "mimetype": "text/x-python",
   "name": "python",
   "nbconvert_exporter": "python",
   "pygments_lexer": "ipython3",
   "version": "3.6.3"
  }
 },
 "nbformat": 4,
 "nbformat_minor": 2
}
